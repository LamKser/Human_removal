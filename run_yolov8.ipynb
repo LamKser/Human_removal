{
 "cells": [
  {
   "cell_type": "code",
   "execution_count": 132,
   "metadata": {},
   "outputs": [],
   "source": [
    "from PIL import Image\n",
    "import cv2\n",
    "import matplotlib.pyplot as plt\n",
    "import numpy as np\n",
    "from ultralytics import YOLO"
   ]
  },
  {
   "attachments": {},
   "cell_type": "markdown",
   "metadata": {},
   "source": [
    "# Path"
   ]
  },
  {
   "cell_type": "code",
   "execution_count": 133,
   "metadata": {},
   "outputs": [],
   "source": [
    "yolov8_config = 'yolov8n-seg.yaml'\n",
    "yolov8_weights = 'D:/Code/Project/AI_projects/App_removing_objects/drafts/weights/best.pt'\n",
    "coco_format = 'D:/Code/Project/AI_projects/App_removing_objects/drafts/configs/segment.yaml'"
   ]
  },
  {
   "cell_type": "code",
   "execution_count": 134,
   "metadata": {},
   "outputs": [],
   "source": [
    "model = YOLO(yolov8_weights)"
   ]
  },
  {
   "attachments": {},
   "cell_type": "markdown",
   "metadata": {},
   "source": [
    "## Validation"
   ]
  },
  {
   "cell_type": "code",
   "execution_count": null,
   "metadata": {},
   "outputs": [],
   "source": [
    "model.val(data='drafts/configs/coco128-seg.yaml')"
   ]
  },
  {
   "attachments": {},
   "cell_type": "markdown",
   "metadata": {},
   "source": [
    "## Predict"
   ]
  },
  {
   "cell_type": "code",
   "execution_count": 174,
   "metadata": {},
   "outputs": [
    {
     "name": "stderr",
     "output_type": "stream",
     "text": [
      "\n",
      "0: 384x640 3 persons, 118.0ms\n",
      "Speed: 1.0ms preprocess, 118.0ms inference, 4.0ms postprocess per image at shape (1, 3, 640, 640)\n",
      "Results saved to \u001b[1md:\\Code\\Project\\AI_projects\\App_removing_objects\\runs\\segment\\predict\u001b[0m\n"
     ]
    }
   ],
   "source": [
    "img_path = 'drafts/test/DSC00688.JPG'\n",
    "img = cv2.imread(img_path)\n",
    "results = model(img, conf=0.2,\n",
    "                save=True, save_crop=False)"
   ]
  },
  {
   "cell_type": "code",
   "execution_count": 178,
   "metadata": {},
   "outputs": [
    {
     "ename": "IndexError",
     "evalue": "list index out of range",
     "output_type": "error",
     "traceback": [
      "\u001b[1;31m---------------------------------------------------------------------------\u001b[0m",
      "\u001b[1;31mIndexError\u001b[0m                                Traceback (most recent call last)",
      "Cell \u001b[1;32mIn[178], line 4\u001b[0m\n\u001b[0;32m      1\u001b[0m h, w \u001b[39m=\u001b[39m img\u001b[39m.\u001b[39mshape[:\u001b[39m2\u001b[39m]\n\u001b[0;32m      2\u001b[0m m \u001b[39m=\u001b[39m np\u001b[39m.\u001b[39mzeros((h, w))\n\u001b[1;32m----> 4\u001b[0m res_plotted \u001b[39m=\u001b[39m results[\u001b[39m1\u001b[39;49m]\u001b[39m.\u001b[39mplot()\n\u001b[0;32m      5\u001b[0m \u001b[39m# for result in results:\u001b[39;00m\n\u001b[0;32m      6\u001b[0m \u001b[39m#     # bbox = result.boxes\u001b[39;00m\n\u001b[0;32m      7\u001b[0m \u001b[39m#     # print(bbox.xywhn)\u001b[39;00m\n\u001b[1;32m   (...)\u001b[0m\n\u001b[0;32m     14\u001b[0m \u001b[39m# # for i in results[0].masks.data.numpy():\u001b[39;00m\n\u001b[0;32m     15\u001b[0m \u001b[39m# #     total = total + i\u001b[39;00m\n\u001b[0;32m     16\u001b[0m plt\u001b[39m.\u001b[39mimshow(res_plotted)\n",
      "\u001b[1;31mIndexError\u001b[0m: list index out of range"
     ]
    }
   ],
   "source": [
    "h, w = img.shape[:2]\n",
    "m = np.zeros((h, w))\n",
    "\n",
    "res_plotted = results[1].plot()\n",
    "# for result in results:\n",
    "#     # bbox = result.boxes\n",
    "#     # print(bbox.xywhn)\n",
    "#     mask = result.masks\n",
    "#     # print(mask.data.numpy()[0].shape)\n",
    "#     xyn = mask.xy \n",
    "#     for xy in xyn:\n",
    "#         cv2.fillPoly(m, [xy.astype(int)], 255)\n",
    "# # total = 0\n",
    "# # for i in results[0].masks.data.numpy():\n",
    "# #     total = total + i\n",
    "plt.imshow(res_plotted)\n",
    "# plt.show()\n",
    "# plt.imshow(m, cmap='gray')\n",
    "plt.show()"
   ]
  },
  {
   "cell_type": "code",
   "execution_count": null,
   "metadata": {},
   "outputs": [],
   "source": []
  },
  {
   "cell_type": "code",
   "execution_count": null,
   "metadata": {},
   "outputs": [],
   "source": []
  }
 ],
 "metadata": {
  "kernelspec": {
   "display_name": "yolov8",
   "language": "python",
   "name": "python3"
  },
  "language_info": {
   "codemirror_mode": {
    "name": "ipython",
    "version": 3
   },
   "file_extension": ".py",
   "mimetype": "text/x-python",
   "name": "python",
   "nbconvert_exporter": "python",
   "pygments_lexer": "ipython3",
   "version": "3.9.12"
  },
  "orig_nbformat": 4
 },
 "nbformat": 4,
 "nbformat_minor": 2
}
